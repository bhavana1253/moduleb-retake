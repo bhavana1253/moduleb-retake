{
 "cells": [
  {
   "cell_type": "code",
   "execution_count": null,
   "metadata": {},
   "outputs": [],
   "source": [
    "import pandas as pd\n",
    "import numpy as np\n",
    "%matplotlib inline"
   ]
  },
  {
   "cell_type": "markdown",
   "metadata": {},
   "source": [
    "# B | Module Test"
   ]
  },
  {
   "cell_type": "markdown",
   "metadata": {},
   "source": [
    "<!-- BEGIN QUESTION -->\n",
    "\n",
    "## Part I&nbsp;&nbsp;&nbsp;&nbsp;&nbsp;&nbsp;(10 Points)"
   ]
  },
  {
   "cell_type": "code",
   "execution_count": null,
   "metadata": {
    "tags": []
   },
   "outputs": [],
   "source": [
    "# Write your shell commands here\n",
    "\n",
    "git clone https://github.com/bhavana1253/moduleb-retake.git\n",
    "cd moduleb-retake\n",
    "mkdir test_v2\n",
    "cd test_v2\n",
    "touch moduleB\n",
    "git add .\n",
    "git commit -m \"moduleB retake q1\"\n",
    "git push\n",
    "\n"
   ]
  },
  {
   "cell_type": "markdown",
   "metadata": {},
   "source": [
    "Your solution to this question should **also** include file, submitted alongside this notebook."
   ]
  },
  {
   "cell_type": "markdown",
   "metadata": {},
   "source": [
    "<!-- BEGIN QUESTION -->\n",
    "\n",
    "## Part II&nbsp;&nbsp;&nbsp;&nbsp;&nbsp;&nbsp;(10 Points)"
   ]
  },
  {
   "cell_type": "markdown",
   "metadata": {
    "tags": []
   },
   "source": [
    "Your solution to this question should be a file, submitted alongside this notebook."
   ]
  },
  {
   "cell_type": "markdown",
   "metadata": {},
   "source": [
    "Write a basic Shell Script to do the following:\n",
    "\n",
    "Creates 2 environment variables PATH and WORD set to values of your choosing.\n",
    "Search all python files (files ending in .py) in the directory whose path matches the value of the environment \n",
    "variable PATH for instances of the value of the environment variable WORD, including instances where the content uses different cases (case-insensitive search), and write the results of this search into a file named results.txt.\n",
    "Takes the contents of results.txt and displays the first 5 entries, followed by \"...\" then the last 3 entries.\n",
    "Save your script in a file named part_ii.sh."
   ]
  },
  {
   "cell_type": "code",
   "execution_count": null,
   "metadata": {},
   "outputs": [],
   "source": [
    "\n",
    "export $PATH=pwd\n",
    "WORD=\"HELLO\"\n",
    "find . -path $PATH/*.py -type f  > results.txt\n",
    "\n",
    "head results.txt 5\n",
    "tail results.txt 3\n"
   ]
  },
  {
   "cell_type": "markdown",
   "metadata": {},
   "source": [
    "<!-- END QUESTION -->\n",
    "\n",
    "<!-- BEGIN QUESTION -->\n",
    "\n",
    "## Part III&nbsp;&nbsp;&nbsp;&nbsp;&nbsp;&nbsp;(30 Points)"
   ]
  },
  {
   "cell_type": "code",
   "execution_count": null,
   "metadata": {
    "tags": []
   },
   "outputs": [
    {
     "name": "stdout",
     "output_type": "stream",
     "text": [
      "1\n",
      "2\n",
      "3\n",
      "4\n"
     ]
    }
   ],
   "source": [
    "# Write your test cases and comments here\n",
    "      \n",
    "\n",
    "1. pass a as 0 and check the output \n",
    "2. pass a as string and check the output\n",
    "3. pass a as float 12.0 and check output \n",
    "\n",
    "This contains a bug as count is 0 initially ang throws the error as \"\n",
    "ZeroDivisionError: integer division or modulo by zero\"\n",
    "\n",
    "set_pdb after while and check the values of count and a\n",
    "initialize the count to 1"
   ]
  },
  {
   "cell_type": "code",
   "execution_count": null,
   "metadata": {
    "tags": []
   },
   "outputs": [],
   "source": [
    "# Write the fixed code here\n",
    "\n"
   ]
  },
  {
   "cell_type": "markdown",
   "metadata": {},
   "source": [
    "Write your debugging steps here"
   ]
  },
  {
   "cell_type": "markdown",
   "metadata": {},
   "source": [
    "<!-- END QUESTION -->\n",
    "\n",
    "<!-- BEGIN QUESTION -->\n",
    "\n",
    "## Part IV&nbsp;&nbsp;&nbsp;&nbsp;&nbsp;&nbsp;(50 Points)"
   ]
  },
  {
   "cell_type": "code",
   "execution_count": null,
   "metadata": {},
   "outputs": [],
   "source": [
    ".\n",
    "├── directory1\n",
    "│   └── directory2\n",
    "│       ├── directory3\n",
    "│       │   └── file2\n",
    "│       └── file1\n",
    "├── directory4\n",
    "│   └── file3\n",
    "├── README.md\n",
    "└── LICENSE"
   ]
  },
  {
   "cell_type": "code",
   "execution_count": null,
   "metadata": {
    "tags": []
   },
   "outputs": [],
   "source": [
    "# Write your shell commands here\n",
    "mkdir moduleB-retake\n",
    "cd moduleB-retake\n",
    "\n",
    "mkdir directory1\n",
    "mkdir directory4\n",
    "touch README.md\n",
    "touch LICENSE\n",
    "\n",
    "cd directory1\n",
    "mkdir directory2\n",
    "touch file1\n",
    "cd directory2\n",
    "mkdir directory3\n",
    "cd directory3\n",
    "touch file2\n",
    "cd ../../../\n",
    "cd directory4\n",
    "touch file3\n",
    "\n",
    "git add .\n",
    "git commit -m \"main\"\n",
    "git push \n",
    "\n",
    "git checkout -n newfeature\n",
    "\n",
    "cp -r directory1/directory2/ directory4/directory2_copy/\n",
    "cd directory1/\n",
    " mv  directory2/directory3/ .\n",
    "cd ..\n",
    "cp directory4/file3 directory1/directory3/\n",
    "mv file1 directory2/\n",
    "git add .\n",
    "git commit -m \"main\"\n",
    "git push\n",
    "git checkout -b newfeature2\n",
    "cd directory1/\n",
    "mv file1 directory3/\n",
    "rm -rf directory2\n",
    "touch newfile1\n",
    "cd ..\n",
    "rm -rf directory4/\n",
    "\n",
    "echo \"# This ReadMe contains important information\" > README.md\n",
    "\n",
    "git add .\n",
    "git commit -m \"newfeature2\"\n",
    "git push\n",
    "git checkout newfeature\n",
    "git stash pop\n",
    "git add .\n",
    "git commit -m \"newfeature\"\n",
    "git merge newfeature2\n",
    "\n",
    "zip -r repo.zip moduleb-retake\n",
    "\n",
    "\n"
   ]
  },
  {
   "cell_type": "markdown",
   "metadata": {},
   "source": [
    "Your solution to this question should **also** include a file, submitted alongside this notebook."
   ]
  },
  {
   "cell_type": "markdown",
   "metadata": {},
   "source": [
    "<!-- END QUESTION -->\n",
    "\n"
   ]
  }
 ],
 "metadata": {
  "celltoolbar": "Edit Metadata",
  "kernelspec": {
   "display_name": "Python 3 (ipykernel)",
   "language": "python",
   "name": "python3"
  },
  "language_info": {
   "codemirror_mode": {
    "name": "ipython",
    "version": 3
   },
   "file_extension": ".py",
   "mimetype": "text/x-python",
   "name": "python",
   "nbconvert_exporter": "python",
   "pygments_lexer": "ipython3",
   "version": "3.9.7"
  },
  "varInspector": {
   "cols": {
    "lenName": 16,
    "lenType": 16,
    "lenVar": 40
   },
   "kernels_config": {
    "python": {
     "delete_cmd_postfix": "",
     "delete_cmd_prefix": "del ",
     "library": "var_list.py",
     "varRefreshCmd": "print(var_dic_list())"
    },
    "r": {
     "delete_cmd_postfix": ") ",
     "delete_cmd_prefix": "rm(",
     "library": "var_list.r",
     "varRefreshCmd": "cat(var_dic_list()) "
    }
   },
   "types_to_exclude": [
    "module",
    "function",
    "builtin_function_or_method",
    "instance",
    "_Feature"
   ],
   "window_display": false
  }
 },
 "nbformat": 4,
 "nbformat_minor": 4
}
